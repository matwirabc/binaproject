{
  "nbformat": 4,
  "nbformat_minor": 0,
  "metadata": {
    "colab": {
      "provenance": [],
      "toc_visible": true,
      "name": "bina_aggregate.ipynb",
      "authorship_tag": "ABX9TyPVqunmgaQvwg1NOSa/f8Lr",
      "include_colab_link": true
    },
    "kernelspec": {
      "name": "python3",
      "display_name": "Python 3"
    },
    "language_info": {
      "name": "python"
    }
  },
  "cells": [
    {
      "cell_type": "markdown",
      "metadata": {
        "id": "view-in-github",
        "colab_type": "text"
      },
      "source": [
        "<a href=\"https://colab.research.google.com/github/matwirabc/binaproject/blob/aggregate/bina_aggregate.ipynb\" target=\"_parent\"><img src=\"https://colab.research.google.com/assets/colab-badge.svg\" alt=\"Open In Colab\"/></a>"
      ]
    },
    {
      "cell_type": "markdown",
      "source": [],
      "metadata": {
        "id": "aOwEODXWe2WT"
      }
    },
    {
      "cell_type": "markdown",
      "source": [
        "#1. Einführung\n",
        "Im folgenden Abschnitt werden die Ausganglage beschrieben, sowie die Zielsetzung erörter.\n",
        "\n",
        "##1.1 Vorgehen\n",
        "Die Arbeit ist nach dem \"Five-Step Approach\" nach CPA (Chartered Professional Accountants) gegliedert. Die fünf Schritte sind:\n",
        "\n",
        "\n",
        "1.   Ziel(e) setzen\n",
        "2.   Datenerhebung\n",
        "3.   Analyse\n",
        "4.   Aufarbeiten\n",
        "5.   Entscheiden\n",
        "\n",
        "\n",
        "##1.2 Ausgangslage\n",
        "Die zuvor bearbeiteten Datensätze stammten aus unterschiedlichen Quellen und standen bislang in keinem Zusammenhang. In diesem Abschnitt sollen die bereinigten Datensätze nun miteinander in Beziehung gesetzt werden. Folgende Datensätze werden dafür genutzt:\n",
        "\n",
        "\n",
        "*   Fahrzeuge\n",
        "*   Flugzeuge\n",
        "*   Bahn\n",
        "*   Bevölkerung Schweiz\n",
        "\n",
        "\n",
        "Der Datensatz \"2.4 Bevölkerung Schweiz\" soll dabei als verbindendes Element genutz werden.\n",
        "\n",
        "# Schritt 1: Zielsetzung\n",
        "Folgende Fragen sollen in der Arbeit bearbeitet und beantwortet werden.\n",
        "\n",
        "**Hauptfrage:**\n",
        "Wie haben sich die Verkehrsmittel im Verhältnis zum Bevölkerungswachstum in der Schweiz entwickelt – sowohl relativ als auch absolut?\n",
        "\n",
        "**Unterfrage 1**\n",
        "Welches Verkehrsmittel verzeichnete im Untersuchungszeitraum das stärkste Wachstum (relativ und absolut)?\n",
        "\n",
        "**Unterfrage 2**\n",
        "Welches Verkehrsmittel erlitt während der Corona-Pandemie den stärksten Rückgang (relativ und absolut)?\n",
        "\n",
        "# Schritt 2: Datenerhebung\n",
        "Für die Anaylse der Entwicklung und Trends wurden die Datensätze aus den anderen Bereichen dieser Arbeit verwendet. Die Datensätze sind im GIT-Repository abgelegt.\n",
        "\n",
        "##2.1 Laden und importieren der Libraries\n",
        "Die Verarbeitung und Darstellung der Daten erfolgt mit den untenstehenden Libarys, welche in einem ersten Schritt importiert werden.\n"
      ],
      "metadata": {
        "id": "q6onAO-o0AdF"
      }
    },
    {
      "cell_type": "code",
      "execution_count": null,
      "metadata": {
        "id": "G-_IxLSsa0Y6",
        "colab": {
          "base_uri": "https://localhost:8080/"
        },
        "outputId": "8f835ecf-0c73-4c1b-e2c9-002b5cced105"
      },
      "outputs": [
        {
          "output_type": "stream",
          "name": "stdout",
          "text": [
            "Collecting dash\n",
            "  Downloading dash-3.0.4-py3-none-any.whl.metadata (10 kB)\n",
            "Collecting Flask<3.1,>=1.0.4 (from dash)\n",
            "  Downloading flask-3.0.3-py3-none-any.whl.metadata (3.2 kB)\n",
            "Collecting Werkzeug<3.1 (from dash)\n",
            "  Downloading werkzeug-3.0.6-py3-none-any.whl.metadata (3.7 kB)\n",
            "Requirement already satisfied: plotly>=5.0.0 in /usr/local/lib/python3.11/dist-packages (from dash) (5.24.1)\n",
            "Requirement already satisfied: importlib-metadata in /usr/local/lib/python3.11/dist-packages (from dash) (8.7.0)\n",
            "Requirement already satisfied: typing-extensions>=4.1.1 in /usr/local/lib/python3.11/dist-packages (from dash) (4.13.2)\n",
            "Requirement already satisfied: requests in /usr/local/lib/python3.11/dist-packages (from dash) (2.32.3)\n",
            "Collecting retrying (from dash)\n",
            "  Downloading retrying-1.3.4-py3-none-any.whl.metadata (6.9 kB)\n",
            "Requirement already satisfied: nest-asyncio in /usr/local/lib/python3.11/dist-packages (from dash) (1.6.0)\n",
            "Requirement already satisfied: setuptools in /usr/local/lib/python3.11/dist-packages (from dash) (75.2.0)\n",
            "Requirement already satisfied: Jinja2>=3.1.2 in /usr/local/lib/python3.11/dist-packages (from Flask<3.1,>=1.0.4->dash) (3.1.6)\n",
            "Requirement already satisfied: itsdangerous>=2.1.2 in /usr/local/lib/python3.11/dist-packages (from Flask<3.1,>=1.0.4->dash) (2.2.0)\n",
            "Requirement already satisfied: click>=8.1.3 in /usr/local/lib/python3.11/dist-packages (from Flask<3.1,>=1.0.4->dash) (8.1.8)\n",
            "Requirement already satisfied: blinker>=1.6.2 in /usr/local/lib/python3.11/dist-packages (from Flask<3.1,>=1.0.4->dash) (1.9.0)\n",
            "Requirement already satisfied: tenacity>=6.2.0 in /usr/local/lib/python3.11/dist-packages (from plotly>=5.0.0->dash) (9.1.2)\n",
            "Requirement already satisfied: packaging in /usr/local/lib/python3.11/dist-packages (from plotly>=5.0.0->dash) (24.2)\n",
            "Requirement already satisfied: MarkupSafe>=2.1.1 in /usr/local/lib/python3.11/dist-packages (from Werkzeug<3.1->dash) (3.0.2)\n",
            "Requirement already satisfied: zipp>=3.20 in /usr/local/lib/python3.11/dist-packages (from importlib-metadata->dash) (3.21.0)\n",
            "Requirement already satisfied: charset-normalizer<4,>=2 in /usr/local/lib/python3.11/dist-packages (from requests->dash) (3.4.2)\n",
            "Requirement already satisfied: idna<4,>=2.5 in /usr/local/lib/python3.11/dist-packages (from requests->dash) (3.10)\n",
            "Requirement already satisfied: urllib3<3,>=1.21.1 in /usr/local/lib/python3.11/dist-packages (from requests->dash) (2.4.0)\n",
            "Requirement already satisfied: certifi>=2017.4.17 in /usr/local/lib/python3.11/dist-packages (from requests->dash) (2025.4.26)\n",
            "Requirement already satisfied: six>=1.7.0 in /usr/local/lib/python3.11/dist-packages (from retrying->dash) (1.17.0)\n",
            "Downloading dash-3.0.4-py3-none-any.whl (7.9 MB)\n",
            "\u001b[2K   \u001b[90m━━━━━━━━━━━━━━━━━━━━━━━━━━━━━━━━━━━━━━━━\u001b[0m \u001b[32m7.9/7.9 MB\u001b[0m \u001b[31m58.0 MB/s\u001b[0m eta \u001b[36m0:00:00\u001b[0m\n",
            "\u001b[?25hDownloading flask-3.0.3-py3-none-any.whl (101 kB)\n",
            "\u001b[2K   \u001b[90m━━━━━━━━━━━━━━━━━━━━━━━━━━━━━━━━━━━━━━━━\u001b[0m \u001b[32m101.7/101.7 kB\u001b[0m \u001b[31m6.6 MB/s\u001b[0m eta \u001b[36m0:00:00\u001b[0m\n",
            "\u001b[?25hDownloading werkzeug-3.0.6-py3-none-any.whl (227 kB)\n",
            "\u001b[2K   \u001b[90m━━━━━━━━━━━━━━━━━━━━━━━━━━━━━━━━━━━━━━━━\u001b[0m \u001b[32m228.0/228.0 kB\u001b[0m \u001b[31m15.8 MB/s\u001b[0m eta \u001b[36m0:00:00\u001b[0m\n",
            "\u001b[?25hDownloading retrying-1.3.4-py3-none-any.whl (11 kB)\n",
            "Installing collected packages: Werkzeug, retrying, Flask, dash\n",
            "  Attempting uninstall: Werkzeug\n",
            "    Found existing installation: Werkzeug 3.1.3\n",
            "    Uninstalling Werkzeug-3.1.3:\n",
            "      Successfully uninstalled Werkzeug-3.1.3\n",
            "  Attempting uninstall: Flask\n",
            "    Found existing installation: Flask 3.1.0\n",
            "    Uninstalling Flask-3.1.0:\n",
            "      Successfully uninstalled Flask-3.1.0\n",
            "Successfully installed Flask-3.0.3 Werkzeug-3.0.6 dash-3.0.4 retrying-1.3.4\n",
            "Collecting mplcursors\n",
            "  Downloading mplcursors-0.6-py3-none-any.whl.metadata (3.0 kB)\n",
            "Requirement already satisfied: matplotlib!=3.7.1,>=3.1 in /usr/local/lib/python3.11/dist-packages (from mplcursors) (3.10.0)\n",
            "Requirement already satisfied: contourpy>=1.0.1 in /usr/local/lib/python3.11/dist-packages (from matplotlib!=3.7.1,>=3.1->mplcursors) (1.3.2)\n",
            "Requirement already satisfied: cycler>=0.10 in /usr/local/lib/python3.11/dist-packages (from matplotlib!=3.7.1,>=3.1->mplcursors) (0.12.1)\n",
            "Requirement already satisfied: fonttools>=4.22.0 in /usr/local/lib/python3.11/dist-packages (from matplotlib!=3.7.1,>=3.1->mplcursors) (4.57.0)\n",
            "Requirement already satisfied: kiwisolver>=1.3.1 in /usr/local/lib/python3.11/dist-packages (from matplotlib!=3.7.1,>=3.1->mplcursors) (1.4.8)\n",
            "Requirement already satisfied: numpy>=1.23 in /usr/local/lib/python3.11/dist-packages (from matplotlib!=3.7.1,>=3.1->mplcursors) (2.0.2)\n",
            "Requirement already satisfied: packaging>=20.0 in /usr/local/lib/python3.11/dist-packages (from matplotlib!=3.7.1,>=3.1->mplcursors) (24.2)\n",
            "Requirement already satisfied: pillow>=8 in /usr/local/lib/python3.11/dist-packages (from matplotlib!=3.7.1,>=3.1->mplcursors) (11.2.1)\n",
            "Requirement already satisfied: pyparsing>=2.3.1 in /usr/local/lib/python3.11/dist-packages (from matplotlib!=3.7.1,>=3.1->mplcursors) (3.2.3)\n",
            "Requirement already satisfied: python-dateutil>=2.7 in /usr/local/lib/python3.11/dist-packages (from matplotlib!=3.7.1,>=3.1->mplcursors) (2.9.0.post0)\n",
            "Requirement already satisfied: six>=1.5 in /usr/local/lib/python3.11/dist-packages (from python-dateutil>=2.7->matplotlib!=3.7.1,>=3.1->mplcursors) (1.17.0)\n",
            "Downloading mplcursors-0.6-py3-none-any.whl (20 kB)\n",
            "Installing collected packages: mplcursors\n",
            "Successfully installed mplcursors-0.6\n"
          ]
        }
      ],
      "source": [
        "\n",
        "\n",
        "#Load necessary packages/libraries\n",
        "import pandas as pd\n",
        "import matplotlib.pyplot as plt\n",
        "import matplotlib_inline.backend_inline\n",
        "import matplotlib.ticker as mticker\n",
        "import plotly.express as px\n",
        "import numpy as np\n",
        "import plotly.graph_objs as go\n",
        "from sklearn.linear_model import LinearRegression\n",
        "from scipy.stats import linregress\n",
        "from plotly.subplots import make_subplots\n",
        "import seaborn as sns\n",
        "from scipy.stats import pearsonr\n",
        "from sklearn.preprocessing import StandardScaler\n",
        "from sklearn.cluster import KMeans\n",
        "!pip install dash\n",
        "!pip install mplcursors\n",
        "\n"
      ]
    },
    {
      "cell_type": "markdown",
      "source": [
        "##2.2 Laden der Datensets\n",
        "Die Datensets wurden in verschiedenen Formaten (.csv und .xlsx) zur Verfügung gestellt."
      ],
      "metadata": {
        "id": "89F10q_0LNop"
      }
    },
    {
      "cell_type": "markdown",
      "source": [],
      "metadata": {
        "id": "aEmCv1iye1E0"
      }
    }
  ]
}